{
 "cells": [
  {
   "cell_type": "markdown",
   "id": "b34fb693",
   "metadata": {},
   "source": [
    "<h1>Modelo de Décio Bazin</h1>"
   ]
  },
  {
   "cell_type": "markdown",
   "id": "72176a8b",
   "metadata": {},
   "source": [
    "A idéia é calcular o ranking (Bazin) das ações analisando os dados fundamentalistas de todas as empresas da bolsa B3.<br><br>\n",
    "Para a análise, são utilizados princípios do Décio Bazin. Autor do livro: \"Faça Fortuna Com Ações\", que é tido como literatura indicada por Luis Barsi, o maior investidor na bolsa brasileira.<br>\n",
    "\n",
    "<h3>Princípios utilizados:</h3>\n",
    "\n",
    "1. Preço Justo (Bazin) > 1.5 * Preço. Preço Justo (Bazin) => Dividend Yield * 16.67 (Por: Décio Bazin)<br>\n",
    "2. Dívida Bruta/Patrimônio < 0.5 (50%)<br>\n",
    "3. Dividend Yield > 0.06 (6%)<br>\n",
    "4. Média do Dividend Yield nos últimos 5 anos > 0.05 (5%)<br>\n",
    "5. Mediana do Dividend Yield nos últimos 5 anos > 0.05 (5%)<br>\n",
    "6. Pagamento positivo de dividendos nos últimos 5 anos<br>\n",
    "7. Pagamento crescente de dividendos nos últimos 5 anos<br>\n",
    "8. 0 < Payout < 1"
   ]
  },
  {
   "cell_type": "markdown",
   "id": "8e2bd117",
   "metadata": {},
   "source": [
    "## Bibliotecas"
   ]
  },
  {
   "cell_type": "code",
   "execution_count": 10,
   "id": "36d5398d",
   "metadata": {},
   "outputs": [],
   "source": [
    "# Importando as bibliotecas necessárias\n",
    "\n",
    "import pandas as pd\n",
    "import fundamentus as fmt\n",
    "import requests\n",
    "\n",
    "import warnings\n",
    "warnings.filterwarnings(\"ignore\")"
   ]
  },
  {
   "cell_type": "code",
   "execution_count": 12,
   "id": "1adfc674",
   "metadata": {},
   "outputs": [
    {
     "name": "stdout",
     "output_type": "stream",
     "text": [
      "Tickers das ações listadas na B3:\n",
      "PETR4\n",
      "VALE3\n",
      "BBDC4\n",
      "B3SA4\n"
     ]
    }
   ],
   "source": [
    "def obter_tickers_b3():\n",
    "    url = \"https://www.b3.com.br/pt_br/produtos-e-servicos/negociacao/renda-variavel/empresas-listadas.htm\"\n",
    "    response = requests.get(url)\n",
    "    if response.status_code == 200:\n",
    "        # Analisar a página para extrair os tickers\n",
    "        # (Você precisará usar uma biblioteca de análise HTML, como BeautifulSoup)\n",
    "        # Aqui está um exemplo simplificado:\n",
    "        tickers = [\"PETR4\", \"VALE3\", \"BBDC4\", \"B3SA4\"]\n",
    "        return tickers\n",
    "    else:\n",
    "        return None\n",
    "\n",
    "tickers_b3 = obter_tickers_b3()\n",
    "if tickers_b3:\n",
    "    print(\"Tickers das ações listadas na B3:\")\n",
    "    for ticker in tickers_b3:\n",
    "        print(ticker)\n",
    "else:\n",
    "    print(\"Não foi possível obter os tickers. Verifique sua conexão com a internet.\")"
   ]
  },
  {
   "cell_type": "markdown",
   "id": "de54db45",
   "metadata": {},
   "source": [
    "## Funções"
   ]
  },
  {
   "cell_type": "code",
   "execution_count": null,
   "id": "5e8ff894",
   "metadata": {},
   "outputs": [],
   "source": [
    "# === Parallel fetching... https://stackoverflow.com/questions/16181121/a-very-simple-multithreading-parallel-url-fetching-without-queue\n",
    "\n",
    "# Pega o histórico dos Dividendos...\n",
    "# DPA => Dividendo Por Ação. Esse que é importante!\n",
    "# https://api-analitica.sunoresearch.com.br/api/Indicator/GetIndicatorsYear?ticker=PETR4\n",
    "# Pega Histórico de: year, cresRec, divBruta, data, qntAcoes, cotacao, pl, pvp, pebit, pfco, psr, pAtivos, pCapGiro, pAtivCLiq, divYeld, evebit, valordaFirma, valordeMercado, fci, dbPl, vpa, margBruta, capex, margLiq, capexLL, giroAtivos, fcf, caixaLivre, fcl, payout, lpa, margEbit, roic, ebitAtivo, fco, dpa, liqCorrent, divBrPatrim, capexFco, fct, ativoCirculante, fciLL, capexDetails, roe, roa, dlpl, payoutDetails, ebit, lucroLiquido, receitaLiquida\n",
    "\n",
    "# Pega o histórico de Dividend Yield...\n",
    "# Últimos 5 anos...\n",
    "# https://statusinvest.com.br/acao/companytickerprovents?ticker=TRPL4&chartProventsType=1\n",
    "\n",
    "# Últimos 20 anos...\n",
    "# https://statusinvest.com.br/acao/companytickerprovents?ticker=TRPL4&chartProventsType=2\n",
    "\n",
    "# Futura análise da análise ()\n",
    "# https://statusinvest.com.br/acao/getrevenue?companyName=enauta&type=0&trimestral=false\n",
    "\n",
    "# Populate shares panda dataframe with the provided year\n"
   ]
  },
  {
   "cell_type": "code",
   "execution_count": null,
   "id": "37cfa630",
   "metadata": {},
   "outputs": [],
   "source": [
    "# Lista de tickers das ações da B3 (exemplo com algumas ações)\n",
    "# Você pode adicionar todos os tickers das ações da B3 aqui\n",
    "\n",
    "tickers = [\n",
    "    # ... Adicione todos os tickers das ações da B3 aqui ...\n",
    "    # Exemplo: 'PETR4', 'ITUB4', 'VALE3', ...\n",
    "]\n",
    "\n",
    "# Obtendo os dados fundamentalistas das ações\n",
    "dados_fundamentalistas = fmt.get_resultado(tickers)\n",
    "\n",
    "# Calculando o Preço Justo (Bazin)\n",
    "def calcular_preco_justo(dividend_yield):\n",
    "    return dividend_yield * 16.67\n",
    "\n",
    "# Filtrando as ações com base nos critérios\n",
    "dados_filtrados = dados_fundamentalistas[\n",
    "    (dados_fundamentalistas['P/L'] > 0) &\n",
    "    (dados_fundamentalistas['P/L'] < 100) &\n",
    "    (dados_fundamentalistas['P/VP'] > 0) &\n",
    "    (dados_fundamentalistas['Dív.Brut/ Patrim.'] < 0.5) &\n",
    "    (dados_fundamentalistas['Div.Yield'] > 0.06) &\n",
    "    (dados_fundamentalistas['Cresc. Rec.5a'] > 0)\n",
    "]\n",
    "\n",
    "# Calculando o Preço Justo (Bazin)\n",
    "dados_filtrados['Preço Justo'] = calcular_preco_justo(dados_filtrados['Div.Yield'])\n",
    "\n",
    "# Ordenando por Preço Justo (Bazin) em ordem decrescente\n",
    "dados_filtrados.sort_values(by='Preço Justo', ascending=False, inplace=True)\n",
    "\n",
    "# Exibindo o ranking das ações\n",
    "print(\"Ranking (Bazin) das ações:\")\n",
    "print(dados_filtrados[['Papel', 'Preço', 'Preço Justo']])"
   ]
  }
 ],
 "metadata": {
  "kernelspec": {
   "display_name": "Python 3 (ipykernel)",
   "language": "python",
   "name": "python3"
  },
  "language_info": {
   "codemirror_mode": {
    "name": "ipython",
    "version": 3
   },
   "file_extension": ".py",
   "mimetype": "text/x-python",
   "name": "python",
   "nbconvert_exporter": "python",
   "pygments_lexer": "ipython3",
   "version": "3.10.9"
  }
 },
 "nbformat": 4,
 "nbformat_minor": 5
}
