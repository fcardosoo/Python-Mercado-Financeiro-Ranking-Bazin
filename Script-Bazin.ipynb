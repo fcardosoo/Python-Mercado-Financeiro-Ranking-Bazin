{
 "cells": [
  {
   "cell_type": "markdown",
   "id": "b34fb693",
   "metadata": {},
   "source": [
    "<h1>Modelo de Décio Bazin</h1>"
   ]
  },
  {
   "cell_type": "markdown",
   "id": "72176a8b",
   "metadata": {},
   "source": [
    "A idéia é calcular o ranking (Bazin) das ações analisando os dados fundamentalistas de todas as empresas da bolsa B3.<br><br>\n",
    "Para a análise, são utilizados princípios do Décio Bazin. Autor do livro: \"Faça Fortuna Com Ações\", que é tido como literatura indicada por Luis Barsi, o maior investidor na bolsa brasileira.<br>\n",
    "\n",
    "<h3>Princípios utilizados:</h3>\n",
    "\n",
    "1. Preço Justo (Bazin) > 1.5 * Preço. Preço Justo (Bazin) => Dividend Yield * 16.67 (Por: Décio Bazin)<br>\n",
    "2. Dívida Bruta/Patrimônio < 0.5 (50%)<br>\n",
    "3. Dividend Yield > 0.06 (6%)<br>\n",
    "4. Média do Dividend Yield nos últimos 5 anos > 0.05 (5%)<br>\n",
    "5. Mediana do Dividend Yield nos últimos 5 anos > 0.05 (5%)<br>\n",
    "6. Pagamento positivo de dividendos nos últimos 5 anos<br>\n",
    "7. Pagamento crescente de dividendos nos últimos 5 anos<br>\n",
    "8. 0 < Payout < 1"
   ]
  },
  {
   "cell_type": "markdown",
   "id": "8e2bd117",
   "metadata": {},
   "source": [
    "## Bibliotecas"
   ]
  },
  {
   "cell_type": "code",
   "execution_count": null,
   "id": "36d5398d",
   "metadata": {},
   "outputs": [],
   "source": [
    "# Importando as bibliotecas necessárias\n",
    "import fundamentus as fmt\n",
    "import investpy as inv\n",
    "\n",
    "import warnings\n",
    "warnings.filterwarnings(\"ignore\")"
   ]
  },
  {
   "cell_type": "markdown",
   "id": "de54db45",
   "metadata": {},
   "source": [
    "## Funções"
   ]
  },
  {
   "cell_type": "code",
   "execution_count": null,
   "id": "cabab18b",
   "metadata": {},
   "outputs": [],
   "source": [
    "# Obtendo a lista de Ações (Tickers)\n",
    "tickers = inv.get_stocks_list(\"brazil\")"
   ]
  },
  {
   "cell_type": "code",
   "execution_count": null,
   "id": "5fdac058",
   "metadata": {},
   "outputs": [],
   "source": [
    "dados_fundamentalistas = fmt.get_resultado()\n",
    "dados_fundamentalistas"
   ]
  },
  {
   "cell_type": "code",
   "execution_count": null,
   "id": "79114aff",
   "metadata": {},
   "outputs": [],
   "source": [
    "# Calculando o Preço Justo (Bazin)\n",
    "def calcular_preco_justo(dividend_yield):\n",
    "    return dividend_yield * 16.67\n",
    "\n",
    "# Filtrando as ações com base nos critérios\n",
    "dados_filtrados = dados_fundamentalistas[\n",
    "    (dados_fundamentalistas['pl'] > 0) &\n",
    "    (dados_fundamentalistas['pl'] < 100) &\n",
    "    (dados_fundamentalistas['pvp'] > 0) &\n",
    "    (dados_fundamentalistas['divbpatr'] < 0.5) &\n",
    "    (dados_fundamentalistas['dy'] > 0.06) &\n",
    "    (dados_fundamentalistas['c5y'] > 0)\n",
    "]\n",
    "\n",
    "# Calculando o Preço Justo (Bazin)\n",
    "dados_filtrados['Preço Justo'] = calcular_preco_justo(dados_filtrados['dy'])\n",
    "\n",
    "# Ordenando por Preço Justo (Bazin) em ordem decrescente\n",
    "dados_filtrados.sort_values(by='Preço Justo', ascending=False, inplace=True)\n",
    "\n",
    "# Convertendo a coluna index em coluna com o nome do papel\n",
    "dados_filtrados = dados_filtrados.rename_axis(\"papel\").reset_index()\n",
    "\n",
    "# Exibindo o ranking das ações\n",
    "print(\"Ranking (Bazin) das ações:\")\n",
    "print(dados_filtrados[['papel', 'cotacao', 'Preço Justo']])\n"
   ]
  },
  {
   "cell_type": "code",
   "execution_count": null,
   "id": "66e55def",
   "metadata": {},
   "outputs": [],
   "source": []
  }
 ],
 "metadata": {
  "kernelspec": {
   "display_name": "Python 3 (ipykernel)",
   "language": "python",
   "name": "python3"
  },
  "language_info": {
   "codemirror_mode": {
    "name": "ipython",
    "version": 3
   },
   "file_extension": ".py",
   "mimetype": "text/x-python",
   "name": "python",
   "nbconvert_exporter": "python",
   "pygments_lexer": "ipython3",
   "version": "3.10.9"
  }
 },
 "nbformat": 4,
 "nbformat_minor": 5
}
