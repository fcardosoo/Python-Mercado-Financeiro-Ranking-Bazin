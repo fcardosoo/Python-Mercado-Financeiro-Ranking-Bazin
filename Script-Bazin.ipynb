{
 "cells": [
  {
   "cell_type": "markdown",
   "id": "75ed0b95",
   "metadata": {},
   "source": [
    "<h1>Modelo de Décio Bazin</h1>"
   ]
  },
  {
   "cell_type": "markdown",
   "id": "976c7a78",
   "metadata": {},
   "source": [
    "A idéia é calcular o ranking (Bazin) das ações analisando os dados fundamentalistas de todas as empresas da bolsa B3.<br><br>\n",
    "Para a análise, são utilizados princípios do Décio Bazin. Autor do livro: \"Faça Fortuna Com Ações\", que é tido como literatura indicada por Luis Barsi, o maior investidor na bolsa brasileira.<br>\n",
    "\n",
    "<h3>Princípios utilizados:</h3>\n",
    "\n",
    "1. Preço Justo (Bazin) > 1.5 * Preço. Preço Justo (Bazin) => Dividend Yield * 16.67 (Por: Décio Bazin)<br>\n",
    "2. Dívida Bruta/Patrimônio < 0.5 (50%)<br>\n",
    "3. Dividend Yield > 0.06 (6%)<br>\n",
    "4. Média do Dividend Yield nos últimos 5 anos > 0.05 (5%)<br>\n",
    "5. Mediana do Dividend Yield nos últimos 5 anos > 0.05 (5%)<br>\n",
    "6. Pagamento positivo de dividendos nos últimos 5 anos<br>\n",
    "7. Pagamento crescente de dividendos nos últimos 5 anos<br>\n",
    "8. 0 < Payout < 1"
   ]
  },
  {
   "cell_type": "markdown",
   "id": "c8f8d7c4",
   "metadata": {},
   "source": [
    "## Bibliotecas"
   ]
  },
  {
   "cell_type": "code",
   "execution_count": 2,
   "id": "242e993a",
   "metadata": {},
   "outputs": [],
   "source": [
    "import sys, os\n",
    "sys.path.extend([f'./{name}' for name in os.listdir(\".\") if os.path.isdir(name)])\n",
    "\n",
    "import fundamentus\n",
    "import bovespa\n",
    "import backtest\n",
    "import webbrowser\n",
    "\n",
    "import pandas\n",
    "import numpy\n",
    "import urllib.parse\n",
    "\n",
    "from math import sqrt\n",
    "from decimal import Decimal\n",
    "\n",
    "import http.cookiejar\n",
    "import urllib.request\n",
    "import json\n",
    "import threading\n",
    "import time\n",
    "import pyperclip\n",
    "\n",
    "import portfolios\n",
    "import statistics\n",
    "\n",
    "import warnings\n",
    "warnings.filterwarnings(\"ignore\")"
   ]
  },
  {
   "cell_type": "markdown",
   "id": "5ffc47b9",
   "metadata": {},
   "source": [
    "## Funções"
   ]
  },
  {
   "cell_type": "code",
   "execution_count": 3,
   "id": "4263072d",
   "metadata": {},
   "outputs": [],
   "source": [
    "def populate_shares(year):\n",
    "  globals()['year'] = year\n",
    "  globals()['infos'] = {}\n",
    "  \n",
    "  if year == current_year():\n",
    "    shares = bovespa.shares()\n",
    "  else:\n",
    "    shares = fundamentus.shares(year)\n",
    "  \n",
    "  shares = shares[shares['Cotação'] > 0]\n",
    "  shares = shares[shares['Liquidez 2 meses'] > 0]\n",
    "  shares['Ranking (Bazin)'] = 0\n",
    "  \n",
    "  fill_infos(shares)\n",
    "  \n",
    "  shares = add_ratings(shares)\n",
    "  \n",
    "  shares = reorder_columns(shares)\n",
    "  \n",
    "  return shares\n",
    "\n",
    "\n",
    "# Captura a situação dos dividendos nos últimos 5 anos. (Captura do site: Suno Analitica)\n",
    "# infos = {\n",
    "#   'TRPL4': { 'constante': False, 'crescente': False },\n",
    "#   'PETR4': { 'constante': False, 'crescente': False }\n",
    "# }\n",
    "def fill_infos(shares):\n",
    "  cookie_jar = http.cookiejar.CookieJar()\n",
    "  opener = urllib.request.build_opener(urllib.request.HTTPCookieProcessor(cookie_jar))\n",
    "  opener.addheaders = [('User-agent', 'Mozilla/5.0 (Windows; U; Windows NT 6.1; rv:2.2) Gecko/20110201'),\n",
    "                       ('Accept', 'text/html, text/plain, text/css, text/sgml, */*;q=0.01')]\n",
    "  tickers = list(shares.index)\n",
    "  threads = [threading.Thread(target=fill_infos_by_ticker, args=(ticker,opener,)) for ticker in tickers]\n",
    "  for thread in threads:\n",
    "    thread.start()\n",
    "  for thread in threads:\n",
    "    thread.join()\n",
    "\n",
    "def fill_infos_by_ticker(ticker, opener):\n",
    "  infos[ticker] = {\n",
    "    'media': 0.0,\n",
    "    'mediana': 0.0,\n",
    "    'constante': False,\n",
    "    'crescente': False,\n",
    "    'healthy_payout': False,\n",
    "  }"
   ]
  },
  {
   "cell_type": "code",
   "execution_count": null,
   "id": "7a456caf",
   "metadata": {},
   "outputs": [],
   "source": []
  }
 ],
 "metadata": {
  "kernelspec": {
   "display_name": "Python 3 (ipykernel)",
   "language": "python",
   "name": "python3"
  },
  "language_info": {
   "codemirror_mode": {
    "name": "ipython",
    "version": 3
   },
   "file_extension": ".py",
   "mimetype": "text/x-python",
   "name": "python",
   "nbconvert_exporter": "python",
   "pygments_lexer": "ipython3",
   "version": "3.10.9"
  }
 },
 "nbformat": 4,
 "nbformat_minor": 5
}
