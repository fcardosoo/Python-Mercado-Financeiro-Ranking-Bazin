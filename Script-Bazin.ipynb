{
 "cells": [
  {
   "cell_type": "markdown",
   "id": "f44b9dcc",
   "metadata": {},
   "source": [
    "<h1>Modelo de Décio Bazin</h1>"
   ]
  },
  {
   "cell_type": "markdown",
   "id": "0811c97d",
   "metadata": {},
   "source": [
    "A idéia é calcular o ranking (Bazin) das ações analisando os dados fundamentalistas de todas as empresas da bolsa B3.<br>\n",
    "Para a análise, são utilizados princípios do Décio Bazin. Autor do livro: \"Faça Fortuna Com Ações\", que é tido como literatura indicada por Luis Barsi, o maior investidor na bolsa brasileira.<br>\n",
    "\n",
    "<h3>Princípios utilizados:</h3>\n",
    "\n",
    "- 1. Preço Justo (Bazin) > 1.5 * Preço. Preço Justo (Bazin) => Dividend Yield * 16.67 (Por: Décio Bazin)<br>\n",
    "- 2. Dívida Bruta/Patrimônio < 0.5 (50%)<br>\n",
    "- 3. Dividend Yield > 0.06 (6%)<br>\n",
    "- 4. Média do Dividend Yield nos últimos 5 anos > 0.05 (5%)<br>\n",
    "- 5. Mediana do Dividend Yield nos últimos 5 anos > 0.05 (5%)<br>\n",
    "- 6. Pagamento positivo de dividendos nos últimos 5 anos<br>\n",
    "- 7. Pagamento crescente de dividendos nos últimos 5 anos<br>\n",
    "- 8. 0 < Payout < 1"
   ]
  },
  {
   "cell_type": "code",
   "execution_count": null,
   "id": "a0410f8d",
   "metadata": {},
   "outputs": [],
   "source": []
  }
 ],
 "metadata": {
  "kernelspec": {
   "display_name": "Python 3 (ipykernel)",
   "language": "python",
   "name": "python3"
  },
  "language_info": {
   "codemirror_mode": {
    "name": "ipython",
    "version": 3
   },
   "file_extension": ".py",
   "mimetype": "text/x-python",
   "name": "python",
   "nbconvert_exporter": "python",
   "pygments_lexer": "ipython3",
   "version": "3.10.9"
  }
 },
 "nbformat": 4,
 "nbformat_minor": 5
}
